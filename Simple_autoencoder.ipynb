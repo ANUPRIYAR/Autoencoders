{
  "nbformat": 4,
  "nbformat_minor": 0,
  "metadata": {
    "colab": {
      "name": "Simple_autoencoder.ipynb",
      "provenance": [],
      "authorship_tag": "ABX9TyMC3XdR/K9XNGD0QqpW8FDe",
      "include_colab_link": true
    },
    "kernelspec": {
      "name": "python3",
      "display_name": "Python 3"
    }
  },
  "cells": [
    {
      "cell_type": "markdown",
      "metadata": {
        "id": "view-in-github",
        "colab_type": "text"
      },
      "source": [
        "<a href=\"https://colab.research.google.com/github/ANUPRIYAR/Autoencoders/blob/main/Simple_autoencoder.ipynb\" target=\"_parent\"><img src=\"https://colab.research.google.com/assets/colab-badge.svg\" alt=\"Open In Colab\"/></a>"
      ]
    },
    {
      "cell_type": "code",
      "metadata": {
        "id": "AnCBOIuRF1FC"
      },
      "source": [
        "import keras\r\n",
        "from keras import layers\r\n",
        "from keras.datasets import mnist\r\n",
        "import numpy as np\r\n",
        "import matplotlib.pyplot as plt"
      ],
      "execution_count": 21,
      "outputs": []
    },
    {
      "cell_type": "code",
      "metadata": {
        "colab": {
          "base_uri": "https://localhost:8080/"
        },
        "id": "BJ3kwYYKiEQL",
        "outputId": "8e24ad49-538d-4dba-b1fc-8a608c11f74e"
      },
      "source": [
        "(x_train,_), (x_test,_)= mnist.load_data()"
      ],
      "execution_count": 13,
      "outputs": [
        {
          "output_type": "stream",
          "text": [
            "Downloading data from https://storage.googleapis.com/tensorflow/tf-keras-datasets/mnist.npz\n",
            "11493376/11490434 [==============================] - 0s 0us/step\n"
          ],
          "name": "stdout"
        }
      ]
    },
    {
      "cell_type": "code",
      "metadata": {
        "colab": {
          "base_uri": "https://localhost:8080/"
        },
        "id": "ISlazJF3iVET",
        "outputId": "cbf9b176-671a-482b-8733-d4a7eaee9c03"
      },
      "source": [
        "x_train.shape, x_test.shape"
      ],
      "execution_count": 14,
      "outputs": [
        {
          "output_type": "execute_result",
          "data": {
            "text/plain": [
              "((60000, 28, 28), (10000, 28, 28))"
            ]
          },
          "metadata": {
            "tags": []
          },
          "execution_count": 14
        }
      ]
    },
    {
      "cell_type": "markdown",
      "metadata": {
        "id": "flvUTp6tiiHq"
      },
      "source": [
        "# Normalize values between 0 and 1 and flatten 28*28 image into 784 "
      ]
    },
    {
      "cell_type": "code",
      "metadata": {
        "id": "l3soJm4Rid4G"
      },
      "source": [
        "x_train = x_train.astype('float32')/255\r\n",
        "x_test = x_test.astype('float32')/255\r\n",
        "image_vector_size = 28*28\r\n",
        "x_train= x_train.reshape(x_train.shape[0], image_vector_size)\r\n",
        "x_test= x_test.reshape(x_test.shape[0], image_vector_size)"
      ],
      "execution_count": 17,
      "outputs": []
    },
    {
      "cell_type": "code",
      "metadata": {
        "colab": {
          "base_uri": "https://localhost:8080/"
        },
        "id": "8dvrY9IdmM_f",
        "outputId": "b42c8b36-64d6-4bc4-d27f-fc4398bdcfb1"
      },
      "source": [
        "x_train.shape , x_test.shape"
      ],
      "execution_count": 18,
      "outputs": [
        {
          "output_type": "execute_result",
          "data": {
            "text/plain": [
              "((60000, 784), (10000, 784))"
            ]
          },
          "metadata": {
            "tags": []
          },
          "execution_count": 18
        }
      ]
    },
    {
      "cell_type": "markdown",
      "metadata": {
        "id": "S-pkVGR0rQsn"
      },
      "source": [
        "# **Design Autoencoder**"
      ]
    },
    {
      "cell_type": "code",
      "metadata": {
        "id": "8Q1R-7lYe9oP"
      },
      "source": [
        "encoding_dimension=32\r\n",
        "input_img = keras.Input(shape=(784,))\r\n",
        "encoded = keras.layers.Dense(encoding_dim, activation='relu')(input_img)\r\n",
        "decoded = keras.layers.Dense(784, activation='sigmoid')(encoded)\r\n",
        "\r\n",
        "autoencoder = keras.Model(input_img, decoded)\r\n",
        "\r\n",
        "encoder = keras.Model(input_img, encoded)\r\n",
        "\r\n",
        "encoded_input= keras.Input(shape=(encoding_dimension,))\r\n",
        "decoder_layer = autoencoder.layers[-1]\r\n",
        "\r\n",
        "decoder = keras.Model(encoded_input, decoder_layer(encoded_input))"
      ],
      "execution_count": 10,
      "outputs": []
    },
    {
      "cell_type": "code",
      "metadata": {
        "id": "AQcfNQkXhjpl"
      },
      "source": [
        "autoencoder.compile(optimizer='adam', loss='binary_crossentropy')"
      ],
      "execution_count": 11,
      "outputs": []
    },
    {
      "cell_type": "code",
      "metadata": {
        "colab": {
          "base_uri": "https://localhost:8080/"
        },
        "id": "R5M78cW1h38_",
        "outputId": "f716b59e-3bfe-484b-ad9b-15c5dbe61092"
      },
      "source": [
        "autoencoder.fit(x_train, x_train, epochs=50, batch_size=256, shuffle=True, validation_data=(x_test, x_test))"
      ],
      "execution_count": 19,
      "outputs": [
        {
          "output_type": "stream",
          "text": [
            "Epoch 1/50\n",
            "235/235 [==============================] - 2s 8ms/step - loss: 0.3842 - val_loss: 0.1868\n",
            "Epoch 2/50\n",
            "235/235 [==============================] - 2s 7ms/step - loss: 0.1775 - val_loss: 0.1527\n",
            "Epoch 3/50\n",
            "235/235 [==============================] - 2s 7ms/step - loss: 0.1484 - val_loss: 0.1338\n",
            "Epoch 4/50\n",
            "235/235 [==============================] - 2s 8ms/step - loss: 0.1316 - val_loss: 0.1213\n",
            "Epoch 5/50\n",
            "235/235 [==============================] - 2s 7ms/step - loss: 0.1203 - val_loss: 0.1131\n",
            "Epoch 6/50\n",
            "235/235 [==============================] - 2s 7ms/step - loss: 0.1129 - val_loss: 0.1074\n",
            "Epoch 7/50\n",
            "235/235 [==============================] - 2s 7ms/step - loss: 0.1074 - val_loss: 0.1034\n",
            "Epoch 8/50\n",
            "235/235 [==============================] - 2s 7ms/step - loss: 0.1036 - val_loss: 0.0999\n",
            "Epoch 9/50\n",
            "235/235 [==============================] - 2s 7ms/step - loss: 0.1007 - val_loss: 0.0975\n",
            "Epoch 10/50\n",
            "235/235 [==============================] - 2s 7ms/step - loss: 0.0982 - val_loss: 0.0960\n",
            "Epoch 11/50\n",
            "235/235 [==============================] - 2s 7ms/step - loss: 0.0969 - val_loss: 0.0948\n",
            "Epoch 12/50\n",
            "235/235 [==============================] - 2s 8ms/step - loss: 0.0957 - val_loss: 0.0941\n",
            "Epoch 13/50\n",
            "235/235 [==============================] - 2s 7ms/step - loss: 0.0952 - val_loss: 0.0935\n",
            "Epoch 14/50\n",
            "235/235 [==============================] - 2s 8ms/step - loss: 0.0946 - val_loss: 0.0932\n",
            "Epoch 15/50\n",
            "235/235 [==============================] - 2s 8ms/step - loss: 0.0943 - val_loss: 0.0930\n",
            "Epoch 16/50\n",
            "235/235 [==============================] - 2s 7ms/step - loss: 0.0940 - val_loss: 0.0927\n",
            "Epoch 17/50\n",
            "235/235 [==============================] - 2s 8ms/step - loss: 0.0939 - val_loss: 0.0925\n",
            "Epoch 18/50\n",
            "235/235 [==============================] - 2s 7ms/step - loss: 0.0937 - val_loss: 0.0924\n",
            "Epoch 19/50\n",
            "235/235 [==============================] - 2s 7ms/step - loss: 0.0937 - val_loss: 0.0923\n",
            "Epoch 20/50\n",
            "235/235 [==============================] - 2s 8ms/step - loss: 0.0935 - val_loss: 0.0923\n",
            "Epoch 21/50\n",
            "235/235 [==============================] - 2s 7ms/step - loss: 0.0935 - val_loss: 0.0921\n",
            "Epoch 22/50\n",
            "235/235 [==============================] - 2s 7ms/step - loss: 0.0933 - val_loss: 0.0921\n",
            "Epoch 23/50\n",
            "235/235 [==============================] - 2s 8ms/step - loss: 0.0934 - val_loss: 0.0920\n",
            "Epoch 24/50\n",
            "235/235 [==============================] - 2s 8ms/step - loss: 0.0933 - val_loss: 0.0920\n",
            "Epoch 25/50\n",
            "235/235 [==============================] - 2s 8ms/step - loss: 0.0929 - val_loss: 0.0920\n",
            "Epoch 26/50\n",
            "235/235 [==============================] - 2s 8ms/step - loss: 0.0931 - val_loss: 0.0919\n",
            "Epoch 27/50\n",
            "235/235 [==============================] - 2s 8ms/step - loss: 0.0933 - val_loss: 0.0919\n",
            "Epoch 28/50\n",
            "235/235 [==============================] - 2s 8ms/step - loss: 0.0931 - val_loss: 0.0919\n",
            "Epoch 29/50\n",
            "235/235 [==============================] - 2s 8ms/step - loss: 0.0931 - val_loss: 0.0918\n",
            "Epoch 30/50\n",
            "235/235 [==============================] - 2s 8ms/step - loss: 0.0930 - val_loss: 0.0919\n",
            "Epoch 31/50\n",
            "235/235 [==============================] - 2s 8ms/step - loss: 0.0931 - val_loss: 0.0917\n",
            "Epoch 32/50\n",
            "235/235 [==============================] - 2s 7ms/step - loss: 0.0929 - val_loss: 0.0918\n",
            "Epoch 33/50\n",
            "235/235 [==============================] - 2s 7ms/step - loss: 0.0930 - val_loss: 0.0917\n",
            "Epoch 34/50\n",
            "235/235 [==============================] - 2s 7ms/step - loss: 0.0926 - val_loss: 0.0917\n",
            "Epoch 35/50\n",
            "235/235 [==============================] - 2s 7ms/step - loss: 0.0928 - val_loss: 0.0917\n",
            "Epoch 36/50\n",
            "235/235 [==============================] - 2s 7ms/step - loss: 0.0926 - val_loss: 0.0918\n",
            "Epoch 37/50\n",
            "235/235 [==============================] - 2s 7ms/step - loss: 0.0929 - val_loss: 0.0919\n",
            "Epoch 38/50\n",
            "235/235 [==============================] - 2s 8ms/step - loss: 0.0928 - val_loss: 0.0917\n",
            "Epoch 39/50\n",
            "235/235 [==============================] - 2s 8ms/step - loss: 0.0929 - val_loss: 0.0916\n",
            "Epoch 40/50\n",
            "235/235 [==============================] - 2s 7ms/step - loss: 0.0926 - val_loss: 0.0916\n",
            "Epoch 41/50\n",
            "235/235 [==============================] - 2s 7ms/step - loss: 0.0925 - val_loss: 0.0916\n",
            "Epoch 42/50\n",
            "235/235 [==============================] - 2s 7ms/step - loss: 0.0927 - val_loss: 0.0916\n",
            "Epoch 43/50\n",
            "235/235 [==============================] - 2s 7ms/step - loss: 0.0926 - val_loss: 0.0915\n",
            "Epoch 44/50\n",
            "235/235 [==============================] - 2s 7ms/step - loss: 0.0926 - val_loss: 0.0916\n",
            "Epoch 45/50\n",
            "235/235 [==============================] - 2s 7ms/step - loss: 0.0929 - val_loss: 0.0915\n",
            "Epoch 46/50\n",
            "235/235 [==============================] - 2s 7ms/step - loss: 0.0927 - val_loss: 0.0916\n",
            "Epoch 47/50\n",
            "235/235 [==============================] - 2s 7ms/step - loss: 0.0927 - val_loss: 0.0916\n",
            "Epoch 48/50\n",
            "235/235 [==============================] - 2s 8ms/step - loss: 0.0924 - val_loss: 0.0915\n",
            "Epoch 49/50\n",
            "235/235 [==============================] - 2s 7ms/step - loss: 0.0925 - val_loss: 0.0916\n",
            "Epoch 50/50\n",
            "235/235 [==============================] - 2s 7ms/step - loss: 0.0928 - val_loss: 0.0915\n"
          ],
          "name": "stdout"
        },
        {
          "output_type": "execute_result",
          "data": {
            "text/plain": [
              "<tensorflow.python.keras.callbacks.History at 0x7f84572bb208>"
            ]
          },
          "metadata": {
            "tags": []
          },
          "execution_count": 19
        }
      ]
    },
    {
      "cell_type": "markdown",
      "metadata": {
        "id": "UH3KZzsBroDt"
      },
      "source": [
        "# **Predict_images through encoder and decoder model**"
      ]
    },
    {
      "cell_type": "code",
      "metadata": {
        "id": "X9KD4CWNmtDw"
      },
      "source": [
        "encoded_imgs = encoder.predict(x_test)\r\n",
        "decoded_imgs = decoder.predict(encoded_imgs)"
      ],
      "execution_count": 22,
      "outputs": []
    },
    {
      "cell_type": "code",
      "metadata": {
        "colab": {
          "base_uri": "https://localhost:8080/",
          "height": 252
        },
        "id": "JuAcWl3RnCgd",
        "outputId": "1fe2eb73-f0d9-4c4d-86d6-826408e31ad5"
      },
      "source": [
        "plt.figure(figsize=(20,4))\r\n",
        "\r\n",
        "n= 6\r\n",
        "for i in range(n):\r\n",
        "  ax = plt.subplot(2,n, i+1)\r\n",
        "  plt.imshow(x_test[i].reshape(28,28))\r\n",
        "  ax.get_xaxis().set_visible(False)\r\n",
        "  ax.get_yaxis().set_visible(False)\r\n",
        "\r\n",
        "  ax = plt.subplot(2, n, i + 1 + n)\r\n",
        "  plt.imshow(decoded_imgs[i].reshape(28,28))\r\n",
        "  ax.get_xaxis().set_visible(False)\r\n",
        "  ax.get_yaxis().set_visible(False)\r\n",
        "\r\n",
        "\r\n",
        "plt.show()"
      ],
      "execution_count": 38,
      "outputs": [
        {
          "output_type": "display_data",
          "data": {
            "image/png": "[encoded data removed]",
            "text/plain": [
              "<Figure size 1440x288 with 12 Axes>"
            ]
          },
          "metadata": {
            "tags": [],
            "needs_background": "light"
          }
        }
      ]
    },
    {
      "cell_type": "code",
      "metadata": {
        "id": "Z4IKucKLnk4R"
      },
      "source": [
        ""
      ],
      "execution_count": null,
      "outputs": []
    }
  ]
}